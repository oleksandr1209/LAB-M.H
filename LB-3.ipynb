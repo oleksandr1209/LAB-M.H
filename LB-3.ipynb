{
 "cells": [
  {
   "cell_type": "markdown",
   "id": "37f7333b",
   "metadata": {},
   "source": [
    "# Лабораторна робота \"Операції над масивами NumPy\"\n",
    "\n",
    "__Метою__ лабораторної роботи є набуття практичних навичок та закріплення теоретичних знань по обробці великих однорідних наборів даних які розташовані у вигляді масивів бібліотеки __NumPy__.\n",
    "\n",
    "Виконати послідовно завдання в секціях, попередню засвоївши наведені приклади\n",
    "В завданнях продовжити написання коду замість `...`. \n",
    "\n",
    "__Імена змінних в завданнях змінювати не можна!__"
   ]
  },
  {
   "cell_type": "markdown",
   "id": "cff5adf7",
   "metadata": {
    "heading_collapsed": true
   },
   "source": [
    "### Предвстановлення"
   ]
  },
  {
   "cell_type": "code",
   "execution_count": null,
   "id": "3dc7e8d5",
   "metadata": {
    "hidden": true
   },
   "outputs": [],
   "source": [
    "# Імпортувати бібліотеку numpy з аліасом np\n",
    "import numpy as np"
   ]
  },
  {
   "cell_type": "code",
   "execution_count": null,
   "id": "e7bd3f03",
   "metadata": {
    "code_folding": [],
    "hidden": true
   },
   "outputs": [],
   "source": [
    "# Вивід таблиці відповідності кодів типів даних в NumPy\n",
    "import pandas as pd\n",
    "dtypes = pd.DataFrame(\n",
    "    {\n",
    "        'Type': ['int8', 'uint8', 'int16', 'uint16', 'int32', 'uint32', 'int64', 'uint64', 'float16', 'float32', 'float64', 'float128', 'complex64', 'complex128', 'bool', 'object', 'string_', 'unicode_'],\n",
    "        'Type Code': ['i1', 'u1', 'i2', 'u2', 'i4', 'u4', 'i8', 'u8', 'f2', 'f4 or f', 'f8 or d', 'f16 or g', 'c8', 'c16', '', 'O', 'S', 'U']\n",
    "    }\n",
    ")\n",
    "\n",
    "dtypes"
   ]
  },
  {
   "cell_type": "markdown",
   "id": "033f297c",
   "metadata": {
    "heading_collapsed": true
   },
   "source": [
    "## 1. Створення та інспектування _np-массивів_"
   ]
  },
  {
   "cell_type": "markdown",
   "id": "a355eb26",
   "metadata": {
    "hidden": true
   },
   "source": [
    "### ПРИКЛАДИ"
   ]
  },
  {
   "cell_type": "code",
   "execution_count": null,
   "id": "ad005f08",
   "metadata": {
    "hidden": true
   },
   "outputs": [],
   "source": [
    "# Створити 1-вимірний масив з 5 цілочисельних елементів \n",
    "arr = np.array([23, 42, 13, 7, 0])"
   ]
  },
  {
   "cell_type": "code",
   "execution_count": null,
   "id": "223b11eb",
   "metadata": {
    "hidden": true
   },
   "outputs": [],
   "source": [
    "# Інспектування массива\n",
    "np.info(arr)"
   ]
  },
  {
   "cell_type": "code",
   "execution_count": null,
   "id": "be71cde5",
   "metadata": {
    "hidden": true
   },
   "outputs": [],
   "source": [
    "# створити 2-мірний масив з цілим типом даних у 2-х байтовому форматі\n",
    "arr = np.array([[1,2,3], [4,5,6]], dtype='i2')\n",
    "print(arr)"
   ]
  },
  {
   "cell_type": "code",
   "execution_count": null,
   "id": "069cfeea",
   "metadata": {
    "hidden": true
   },
   "outputs": [],
   "source": [
    "# створити масив із  значень в інтервалі 0 - 20 з кроком 2\n",
    "# np.arange(start, stop, step)\n",
    "arr = np.arange(0, 20, 2)  \n",
    "print(arr)"
   ]
  },
  {
   "cell_type": "code",
   "execution_count": null,
   "id": "bca6baaa",
   "metadata": {
    "hidden": true
   },
   "outputs": [],
   "source": [
    "# створити масив із 20 рівномірно розміщених значень в інтервалі 0 - 10 \n",
    "# np.linspace(start, stop, num_of_elements) \n",
    "arr = np.linspace(0, 10, 20)\n",
    "print(arr)"
   ]
  },
  {
   "cell_type": "code",
   "execution_count": null,
   "id": "d4531bf7",
   "metadata": {
    "hidden": true
   },
   "outputs": [],
   "source": [
    "# створити масив 3х3 випадкових значень \n",
    "arr = np.random.rand(3, 3)\n",
    "print(arr)"
   ]
  },
  {
   "cell_type": "code",
   "execution_count": null,
   "id": "bfcfaf8d",
   "metadata": {
    "hidden": true
   },
   "outputs": [],
   "source": [
    "# створення нульвих, одиничних та заповнених масивів\n",
    "zeros = np.zeros((2,3), dtype='i4')\n",
    "print(zeros)\n",
    "ones = np.ones((2,3))\n",
    "print(ones)\n",
    "filled = np.full((2,3), 123)\n",
    "print(filled)"
   ]
  },
  {
   "cell_type": "code",
   "execution_count": null,
   "id": "c2602c56",
   "metadata": {
    "hidden": true,
    "scrolled": true
   },
   "outputs": [],
   "source": [
    "print(arr, end=\"\\n...\\n\")\n",
    "# інспектування типу массиву `dtype`\n",
    "print(arr.dtype)\n",
    "# інспектування розмірності массиву `shape`\n",
    "print(arr.shape)\n",
    "# інспектування довжини масиву `len`\n",
    "print(len(arr))\n",
    "# інспектування кількості вимірів масиву `ndim`\n",
    "print(arr.ndim)\n",
    "# інспектування кількості елементів в масиві `size`\n",
    "print(arr.size)\n",
    "# інспектування коількості байтів на елемент `itemsize`\n",
    "print(arr.itemsize)\n",
    "# інспектування кількості пам'яти під масив `nbytes`\n",
    "print(arr.nbytes)"
   ]
  },
  {
   "cell_type": "code",
   "execution_count": null,
   "id": "042b3daf",
   "metadata": {
    "hidden": true
   },
   "outputs": [],
   "source": [
    "arr.__sizeof__()"
   ]
  },
  {
   "cell_type": "markdown",
   "id": "4953e355",
   "metadata": {
    "hidden": true
   },
   "source": [
    "### ЗАВДАННЯ 1"
   ]
  },
  {
   "cell_type": "code",
   "execution_count": 24,
   "id": "7cadc1c0",
   "metadata": {
    "hidden": true
   },
   "outputs": [
    {
     "name": "stdout",
     "output_type": "stream",
     "text": [
      "[1, 2, 3, 4, 5]\n"
     ]
    }
   ],
   "source": [
    "### ЗАВДАННЯ 1.1: створити та проінспектувати масив 3х4 з ім'ям arr1_1, який містить числа з плавоючою точкою \n",
    "arr1_1 = [1, 2, 3, 4, 5]\n",
    "print(arr1_1)\n"
   ]
  },
  {
   "cell_type": "code",
   "execution_count": 25,
   "id": "3c60b406",
   "metadata": {
    "hidden": true
   },
   "outputs": [
    {
     "name": "stdout",
     "output_type": "stream",
     "text": [
      "['apple' 'banana' 'cherry' 'date' 'elderberry']\n"
     ]
    }
   ],
   "source": [
    "### ЗАВДАННЯ 1.2: створити одномірний масив з 5 строкових елементів\n",
    "arr1_2 = np.array(['apple', 'banana', 'cherry', 'date', 'elderberry'])\n",
    "print(arr1_2)\n"
   ]
  },
  {
   "cell_type": "code",
   "execution_count": 26,
   "id": "88d0de53",
   "metadata": {
    "hidden": true
   },
   "outputs": [
    {
     "name": "stdout",
     "output_type": "stream",
     "text": [
      "[[1. 1. 1. 1.]\n",
      " [1. 1. 1. 1.]\n",
      " [1. 1. 1. 1.]]\n"
     ]
    }
   ],
   "source": [
    "### ЗАВДАННЯ 1.3: створити одиничний масив 3х4 чисел з плаваючою точкою\n",
    "arr1_3 = np.ones((3, 4), dtype=np.float32)\n",
    "print(arr1_3)\n"
   ]
  },
  {
   "cell_type": "markdown",
   "id": "764fa688",
   "metadata": {
    "heading_collapsed": true
   },
   "source": [
    "## 2. Перетворення форми та типу массивів"
   ]
  },
  {
   "cell_type": "markdown",
   "id": "1c82d0ed",
   "metadata": {
    "hidden": true
   },
   "source": [
    "### ПРИКЛАДИ"
   ]
  },
  {
   "cell_type": "code",
   "execution_count": null,
   "id": "953c93f0",
   "metadata": {
    "hidden": true,
    "scrolled": true
   },
   "outputs": [],
   "source": [
    "# створити 2-мірний float-масив (2х5) з лінійного int-списка \n",
    "spisok = list(range(0,10))\n",
    "arr = np.array(spisok)\n",
    "print(arr)"
   ]
  },
  {
   "cell_type": "code",
   "execution_count": null,
   "id": "3bb56531",
   "metadata": {
    "hidden": true
   },
   "outputs": [],
   "source": [
    "#преретворити форму масива `reshape` \n",
    "arr = arr.reshape((2,5))\n",
    "print(arr)\n",
    "print(arr.dtype)"
   ]
  },
  {
   "cell_type": "code",
   "execution_count": null,
   "id": "07cdda37",
   "metadata": {
    "hidden": true
   },
   "outputs": [],
   "source": [
    "# -- 3 перетворити тип масива `astype`\n",
    "arr = arr.astype('float64')\n",
    "print(arr)\n",
    "print(arr.dtype)"
   ]
  },
  {
   "cell_type": "code",
   "execution_count": null,
   "id": "877770f4",
   "metadata": {
    "hidden": true,
    "scrolled": true
   },
   "outputs": [],
   "source": [
    "# 'вирівняти' 2-мірний масив\n",
    "arr = arr.flatten()\n",
    "print(arr)"
   ]
  },
  {
   "cell_type": "markdown",
   "id": "dcb3100f",
   "metadata": {
    "hidden": true
   },
   "source": [
    "### ЗАВДАННЯ 2"
   ]
  },
  {
   "cell_type": "code",
   "execution_count": 27,
   "id": "4f1638f6",
   "metadata": {
    "hidden": true
   },
   "outputs": [
    {
     "name": "stdout",
     "output_type": "stream",
     "text": [
      "[[[False False False]]\n",
      "\n",
      " [[False False False]]\n",
      "\n",
      " [[False False False]]]\n"
     ]
    }
   ],
   "source": [
    "### ЗАВДАННЯ 2.1: створити 3-мірний масив (3х1х3) логічного 'False'\n",
    "arr2_1 = np.full((3, 1, 3), False, dtype=bool)\n",
    "\n",
    "print(arr2_1)"
   ]
  },
  {
   "cell_type": "code",
   "execution_count": 28,
   "id": "1c1012f9",
   "metadata": {
    "hidden": true
   },
   "outputs": [
    {
     "name": "stdout",
     "output_type": "stream",
     "text": [
      "[[0 0 0]\n",
      " [0 0 0]\n",
      " [0 0 0]]\n"
     ]
    }
   ],
   "source": [
    "### ЗАВДАННЯ 2.2: перетворити масив arr2_1 в 2-мірний масив (3х3) типу int\n",
    "arr2_2 = arr2_1.reshape((3, 3)).astype(int)\n",
    "arr2_1 = np.full((3, 1, 3), False, dtype=bool)\n",
    "print(arr2_2)"
   ]
  },
  {
   "cell_type": "code",
   "execution_count": 29,
   "id": "a6d4dbf1",
   "metadata": {
    "hidden": true
   },
   "outputs": [
    {
     "name": "stdout",
     "output_type": "stream",
     "text": [
      "[10 12 14 16 18 20]\n"
     ]
    }
   ],
   "source": [
    "### ЗАВДАННЯ 2.3: створити  2-мірний масив парних чисел в інтервалі 10-21\n",
    "arr2_3 = np.arange(10, 22, 2)\n",
    "...\n",
    "print(arr2_3)"
   ]
  },
  {
   "cell_type": "markdown",
   "id": "d2418105",
   "metadata": {
    "heading_collapsed": true
   },
   "source": [
    "## 3. Доступ до  елементів масива"
   ]
  },
  {
   "cell_type": "markdown",
   "id": "eea944cf",
   "metadata": {
    "hidden": true
   },
   "source": [
    "### ПРИКЛАДИ"
   ]
  },
  {
   "cell_type": "code",
   "execution_count": 36,
   "id": "5ff72006",
   "metadata": {
    "hidden": true
   },
   "outputs": [
    {
     "name": "stdout",
     "output_type": "stream",
     "text": [
      "[10  6  7 21 44]\n",
      "10\n",
      "7\n",
      "44\n"
     ]
    }
   ],
   "source": [
    "arr = np.array([10, 6, 7, 21, 44]) \n",
    "print(arr)\n",
    "\n",
    "# 1-й елемент \n",
    "print(arr[0])\n",
    "# 3-й елемент\n",
    "print(arr[2])\n",
    "# останній елемент\n",
    "print(arr[-1])"
   ]
  },
  {
   "cell_type": "code",
   "execution_count": 37,
   "id": "002a1aff",
   "metadata": {
    "hidden": true
   },
   "outputs": [
    {
     "name": "stdout",
     "output_type": "stream",
     "text": [
      "[[41 49 33 13]\n",
      " [34 24 20 15]\n",
      " [29 18 12 47]\n",
      " [24 43 19 18]]\n"
     ]
    }
   ],
   "source": [
    "# створити 2-мірний масив з цілих чисел з інтервалу 10-50\n",
    "arr = np.random.randint(10, 50, (4,4))\n",
    "print(arr)"
   ]
  },
  {
   "cell_type": "code",
   "execution_count": 38,
   "id": "8d9a60df",
   "metadata": {
    "hidden": true
   },
   "outputs": [
    {
     "name": "stdout",
     "output_type": "stream",
     "text": [
      "15\n"
     ]
    }
   ],
   "source": [
    "# отримати значення останнього елемента в 2 рядку\n",
    "el = arr[1, -1]\n",
    "print(el)"
   ]
  },
  {
   "cell_type": "code",
   "execution_count": null,
   "id": "6285da26",
   "metadata": {
    "hidden": true
   },
   "outputs": [],
   "source": [
    "# отримати значення останнього рядка\n",
    "vect = arr[-1]\n",
    "print(vect)"
   ]
  },
  {
   "cell_type": "code",
   "execution_count": 39,
   "id": "4f87fb55",
   "metadata": {
    "hidden": true
   },
   "outputs": [
    {
     "name": "stdout",
     "output_type": "stream",
     "text": [
      "[[41 49 33 13]\n",
      " [34 24 20 15]]\n"
     ]
    }
   ],
   "source": [
    "# отримати `зріз` з 1 по 2 рядок\n",
    "mat = arr[0:2]\n",
    "print(mat)"
   ]
  },
  {
   "cell_type": "code",
   "execution_count": 40,
   "id": "8ae673b1",
   "metadata": {
    "hidden": true
   },
   "outputs": [
    {
     "name": "stdout",
     "output_type": "stream",
     "text": [
      "[[49 33]\n",
      " [24 20]\n",
      " [18 12]\n",
      " [43 19]]\n"
     ]
    }
   ],
   "source": [
    "# вилучити 2 та 3 стовбчики `arr`\n",
    "mat = arr[0:4, 1:3]\n",
    "print(mat)"
   ]
  },
  {
   "cell_type": "code",
   "execution_count": 41,
   "id": "eaee80a7",
   "metadata": {
    "hidden": true
   },
   "outputs": [
    {
     "name": "stdout",
     "output_type": "stream",
     "text": [
      "[[41 49 33 13]\n",
      " [29 18 12 47]]\n"
     ]
    }
   ],
   "source": [
    "# вилучити непарні рядки `arr`\n",
    "mat = arr[0:4:2]\n",
    "print(mat)"
   ]
  },
  {
   "cell_type": "code",
   "execution_count": 42,
   "id": "08a60d9d",
   "metadata": {
    "hidden": true
   },
   "outputs": [
    {
     "name": "stdout",
     "output_type": "stream",
     "text": [
      "[41 49 33 34 24 29 47 24 43]\n"
     ]
    }
   ],
   "source": [
    "# фільтрувати елементи масива за умовою\n",
    "els = arr[arr > 20]\n",
    "print(els)"
   ]
  },
  {
   "cell_type": "markdown",
   "id": "972e034d",
   "metadata": {
    "hidden": true
   },
   "source": [
    "### ЗАВДАННЯ 3"
   ]
  },
  {
   "cell_type": "code",
   "execution_count": 53,
   "id": "aab8b56e",
   "metadata": {
    "hidden": true
   },
   "outputs": [
    {
     "name": "stdout",
     "output_type": "stream",
     "text": [
      "[[63.90499245 80.84966335 50.3622597  86.5315821  58.22044698]\n",
      " [62.18664078 36.74873045 62.63878408 55.67243282 37.77623226]\n",
      " [53.27586417 75.10013836 30.05011585 84.2854118  59.56541928]\n",
      " [54.66566078 81.17639156 72.78742397 59.21039549 64.01733435]]\n"
     ]
    }
   ],
   "source": [
    "### ЗАВДАННЯ 3.1: створити масив 4х5 нормально розподілений випадкових чисел 3 інтервалу [10 - 100]\n",
    "mean = 55 \n",
    "std = 20\n",
    "arr3_1 = np.random.normal(mean, std, size=(4, 5))\n",
    "arr3_1 = np.clip(arr3_1, 10, 100)\n",
    "print(arr3_1)"
   ]
  },
  {
   "cell_type": "code",
   "execution_count": 54,
   "id": "ea680bc0",
   "metadata": {
    "hidden": true
   },
   "outputs": [
    {
     "name": "stdout",
     "output_type": "stream",
     "text": [
      "47.00265950319392\n"
     ]
    }
   ],
   "source": [
    "### ЗАВДАННЯ 3.2:  вивести 3-елемент в 2-му рядку\n",
    "mean = 55\n",
    "std = 20 \n",
    "arr3_1 = np.random.normal(mean, std, size=(4, 5))\n",
    "arr3_1 = np.clip(arr3_1, 10, 100) \n",
    "\n",
    "el3_2 = arr3_1[1, 2]\n",
    "\n",
    "print(el3_2)\n"
   ]
  },
  {
   "cell_type": "code",
   "execution_count": 55,
   "id": "72b9576d",
   "metadata": {
    "hidden": true
   },
   "outputs": [
    {
     "name": "stdout",
     "output_type": "stream",
     "text": [
      "[42.5248371  75.84301987 54.68618225 23.69192371 84.28968051]\n"
     ]
    }
   ],
   "source": [
    "### ЗАВДАННЯ 3.3:  вивести 2-й рядок масива `arr3_1`\n",
    "mean = 55\n",
    "std = 20\n",
    "arr3_1 = np.random.normal(mean, std, size=(4, 5))\n",
    "arr3_1 = np.clip(arr3_1, 10, 100)\n",
    "\n",
    "vect3_3 = arr3_1[1, :]\n",
    "\n",
    "print(vect3_3)\n"
   ]
  },
  {
   "cell_type": "code",
   "execution_count": 56,
   "id": "f5ce8562",
   "metadata": {
    "hidden": true
   },
   "outputs": [
    {
     "name": "stdout",
     "output_type": "stream",
     "text": [
      "[82.03588317 61.12462889 35.11359227 95.68959499]\n"
     ]
    }
   ],
   "source": [
    "### ЗАВДАННЯ 3.4:  вивести 3 колонку масива `arr3_1`\n",
    "mean = 55\n",
    "std = 20\n",
    "\n",
    "arr3_1 = np.random.normal(mean, std, size=(4, 5))\n",
    "arr3_1 = np.clip(arr3_1, 10, 100)\n",
    "\n",
    "vect3_4 = arr3_1[:, 2]\n",
    "\n",
    "print(vect3_4)\n"
   ]
  },
  {
   "cell_type": "code",
   "execution_count": 57,
   "id": "7cba7f34",
   "metadata": {
    "hidden": true
   },
   "outputs": [
    {
     "name": "stdout",
     "output_type": "stream",
     "text": [
      "[[53.00567819 59.89779776]\n",
      " [46.52117609 41.72780232]]\n"
     ]
    }
   ],
   "source": [
    "### ЗАВДАННЯ 3.5: вивести матрицю  з 2 та 3 рядка та 2 та 3 колонки масива `arr3_1`\n",
    "import numpy as np\n",
    "\n",
    "mean = 55\n",
    "std = 20\n",
    "\n",
    "arr3_1 = np.random.normal(mean, std, size=(4, 5))\n",
    "arr3_1 = np.clip(arr3_1, 10, 100)\n",
    "\n",
    "mat3_5 = arr3_1[1:3, 1:3]\n",
    "\n",
    "print(mat3_5)\n"
   ]
  },
  {
   "cell_type": "markdown",
   "id": "59ba0a73",
   "metadata": {
    "heading_collapsed": true
   },
   "source": [
    "## 4. Матричні компоненти масива"
   ]
  },
  {
   "cell_type": "markdown",
   "id": "15c89faf",
   "metadata": {
    "hidden": true
   },
   "source": [
    "### ПРИКЛАДИ"
   ]
  },
  {
   "cell_type": "code",
   "execution_count": null,
   "id": "431f5106",
   "metadata": {
    "hidden": true
   },
   "outputs": [],
   "source": [
    "# створити одиничну матрицю розміру 3х3\n",
    "mat = np.eye(3)\n",
    "print(mat)"
   ]
  },
  {
   "cell_type": "code",
   "execution_count": null,
   "id": "62184035",
   "metadata": {
    "hidden": true
   },
   "outputs": [],
   "source": [
    "# створити матрицю із заданою диагоналлю\n",
    "mat = np.diag([1,2,3,4,5])\n",
    "print(mat)"
   ]
  },
  {
   "cell_type": "code",
   "execution_count": null,
   "id": "db16d096",
   "metadata": {
    "hidden": true
   },
   "outputs": [],
   "source": [
    "# вилучити головну діагональ матриці `diag`\n",
    "mat = np.random.rand(5,5)\n",
    "print(mat, end=\"\\n...\\n\")\n",
    "print(np.diag(mat))"
   ]
  },
  {
   "cell_type": "code",
   "execution_count": null,
   "id": "2dec7657",
   "metadata": {
    "hidden": true
   },
   "outputs": [],
   "source": [
    "# транспонувати матрицю `mat` (https://ru.wikipedia.org/wiki/Транспонированная_матрица)\n",
    "mT = np.transpose(mat)\n",
    "print(mT)"
   ]
  },
  {
   "cell_type": "code",
   "execution_count": null,
   "id": "7cec4e03",
   "metadata": {
    "hidden": true
   },
   "outputs": [],
   "source": [
    "# отримати детермінант матриці `det` (https://ru.wikipedia.org/wiki/Определитель)\n",
    "print(np.linalg.det(mat))"
   ]
  },
  {
   "cell_type": "code",
   "execution_count": null,
   "id": "ee8d69c7",
   "metadata": {
    "hidden": true
   },
   "outputs": [],
   "source": [
    "# отримати зворотню матриці `det` (https://ru.wikipedia.org/wiki/Обратная_матрица)\n",
    "invM = np.linalg.inv(mat)\n",
    "print(invM)"
   ]
  },
  {
   "cell_type": "markdown",
   "id": "ba00d798",
   "metadata": {
    "hidden": true
   },
   "source": [
    "### ЗАВАДАННЯ 4"
   ]
  },
  {
   "cell_type": "code",
   "execution_count": 71,
   "id": "d5aa7c9e",
   "metadata": {
    "hidden": true
   },
   "outputs": [
    {
     "name": "stdout",
     "output_type": "stream",
     "text": [
      "[192, 117, 138, 144, 113, 185]\n",
      "[151, 199, 136, 164, 135, 141]\n",
      "[196, 145, 119, 111, 189, 128]\n",
      "[110, 144, 186, 106, 177, 158]\n",
      "[103, 147, 125, 120, 118, 137]\n",
      "[122, 196, 164, 194, 165, 168]\n"
     ]
    }
   ],
   "source": [
    "# ЗАВДАННЯ 4.1: створити квадратну матрицю з 36 рівномірно розподілених цілих \n",
    "# елементів з інтервалу 100 - 200\n",
    "n = 6\n",
    "elements = [random.randint(100, 200) for _ in range(n*n)]\n",
    "mat4_1 = [[0]*n for _ in range(n)]\n",
    "for i in range(n):\n",
    "    for j in range(n):\n",
    "        mat4_1[i][j] = elements[n*i+j]\n",
    "for row in mat4_1:\n",
    "    print(row)\n"
   ]
  },
  {
   "cell_type": "code",
   "execution_count": 62,
   "id": "447a05c2",
   "metadata": {
    "hidden": true
   },
   "outputs": [
    {
     "name": "stdout",
     "output_type": "stream",
     "text": [
      "[168, 166, 140, 187, 156, 135]\n"
     ]
    }
   ],
   "source": [
    "# ЗАВДАННЯ 4.2: вивести головну діагональ матниці `mat4_1`\n",
    "diag4_2 = diag4_2 = [mat4_1[i][i] for i in range(n)]\n",
    "print(diag4_2)\n"
   ]
  },
  {
   "cell_type": "code",
   "execution_count": 68,
   "id": "003c3c8b",
   "metadata": {
    "hidden": true
   },
   "outputs": [
    {
     "name": "stdout",
     "output_type": "stream",
     "text": [
      "[168, 157, 104, 116, 108, 142]\n",
      "[198, 166, 159, 145, 127, 117]\n",
      "[171, 185, 140, 180, 190, 155]\n",
      "[119, 180, 108, 187, 157, 193]\n",
      "[119, 105, 116, 127, 156, 188]\n",
      "[162, 198, 187, 175, 121, 135]\n"
     ]
    }
   ],
   "source": [
    "# ЗАВДАННЯ 4.3: транспонувати матрицю 'mat4_1'\n",
    "n = 6\n",
    "trans4_3 = [[0]*n for _ in range(n)]\n",
    "for i in range(n):\n",
    "    for j in range(n):\n",
    "        trans4_3[i][j] = mat4_1[j][i]\n",
    "for row in trans4_3:\n",
    "    print(row)\n"
   ]
  },
  {
   "cell_type": "code",
   "execution_count": 69,
   "id": "0d05994a",
   "metadata": {
    "hidden": true
   },
   "outputs": [
    {
     "name": "stdout",
     "output_type": "stream",
     "text": [
      "[[ 0.0082676   0.0157143   0.00497386 -0.00501545 -0.0155804  -0.00701373]\n",
      " [-0.0065883   0.00089442 -0.00336257  0.00117803 -0.00552484  0.01468046]\n",
      " [-0.00358089 -0.0131202   0.00512648  0.0103776  -0.00409454  0.00606851]\n",
      " [-0.00678913 -0.01606227  0.01760569 -0.00835243  0.01641038 -0.00292272]\n",
      " [-0.00732017  0.00092668 -0.00605984  0.00449683  0.015974   -0.00580995]\n",
      " [ 0.01771301  0.01408015 -0.01968098 -0.00103665 -0.00556703 -0.00404374]]\n"
     ]
    }
   ],
   "source": [
    "# ЗАВДАННЯ 4.4: вирахувати зворотню до 'mat4_1' матрицю \n",
    "mat4_1 = np.random.randint(100, 200, (6, 6))\n",
    "inv4_4 = np.linalg.inv(mat4_1)\n",
    "print(inv4_4)\n"
   ]
  },
  {
   "cell_type": "markdown",
   "id": "836e63ef",
   "metadata": {
    "heading_collapsed": true
   },
   "source": [
    "## 5. Операції над масивами"
   ]
  },
  {
   "cell_type": "markdown",
   "id": "d1ed164b",
   "metadata": {
    "hidden": true
   },
   "source": [
    "### ПРИКЛАДИ"
   ]
  },
  {
   "cell_type": "code",
   "execution_count": null,
   "id": "526be685",
   "metadata": {
    "hidden": true
   },
   "outputs": [],
   "source": [
    "# задати вектор з 10 елементів\n",
    "vect = np.array([1, 3, 2, -3, 5, 0])"
   ]
  },
  {
   "cell_type": "code",
   "execution_count": null,
   "id": "841d8832",
   "metadata": {
    "hidden": true
   },
   "outputs": [],
   "source": [
    "# вирахувати суму елеметнів\n",
    "s = np.sum(vect)\n",
    "\n",
    "# знайти мінімальний ел-т\n",
    "m = np.min(vect)\n",
    "\n",
    "# відсортувати вектор по зростанню\n",
    "vs = np.sort(vect)\n",
    "\n",
    "# знайти середнє значення\n",
    "mid = np.average(vect)\n",
    "..."
   ]
  },
  {
   "cell_type": "code",
   "execution_count": null,
   "id": "e93a77e7",
   "metadata": {
    "hidden": true
   },
   "outputs": [],
   "source": [
    "# матриця 3х3 сконструйована різними методами\n",
    "mat = np.array([np.arange(1,4), [-2, 4, 6], np.full(3,77)])\n",
    "print(mat)"
   ]
  },
  {
   "cell_type": "code",
   "execution_count": null,
   "id": "12515cb2",
   "metadata": {
    "hidden": true
   },
   "outputs": [],
   "source": [
    "# сума по колонкам `axis=0`\n",
    "s = np.sum(mat, axis=0)\n",
    "print(s)"
   ]
  },
  {
   "cell_type": "code",
   "execution_count": null,
   "id": "1f559e9d",
   "metadata": {
    "hidden": true
   },
   "outputs": [],
   "source": [
    "# мінімум по рядкам\n",
    "m = np.min(mat, axis=1)\n",
    "print(m)"
   ]
  },
  {
   "cell_type": "code",
   "execution_count": null,
   "id": "d4fd582d",
   "metadata": {
    "hidden": true
   },
   "outputs": [],
   "source": [
    "# збільшити ел-ти масива вдвічі\n",
    "v2 = mat * 2\n",
    "print(v2)"
   ]
  },
  {
   "cell_type": "code",
   "execution_count": null,
   "id": "4aefcf63",
   "metadata": {
    "hidden": true
   },
   "outputs": [],
   "source": [
    "M = np.array([[1,2,3],[4,-3,6],[7,8,0]])\n",
    "N = np.array([[1,1,1],[2,2,2],[3,3,3]])\n",
    "print(M, N, sep=\"\\n\")"
   ]
  },
  {
   "cell_type": "code",
   "execution_count": null,
   "id": "c97502a9",
   "metadata": {
    "hidden": true
   },
   "outputs": [],
   "source": [
    "# перемножити елементи матриць M, N\n",
    "K = M * N\n",
    "print(K)\n",
    "# або ->\n",
    "K = np.multiply(N, M)\n",
    "print(K)"
   ]
  },
  {
   "cell_type": "code",
   "execution_count": null,
   "id": "4c6573ad",
   "metadata": {
    "hidden": true
   },
   "outputs": [],
   "source": [
    "# поелементний поділ\n",
    "K = N / M\n",
    "print(K)"
   ]
  },
  {
   "cell_type": "code",
   "execution_count": null,
   "id": "cdd63170",
   "metadata": {
    "hidden": true
   },
   "outputs": [],
   "source": [
    "# скалярне множення матриць (https://ru.wikipedia.org/wiki/Умножение_матриц)\n",
    "prod = np.dot(N, M)\n",
    "print(prod)"
   ]
  },
  {
   "cell_type": "code",
   "execution_count": null,
   "id": "b82fe63f",
   "metadata": {
    "hidden": true
   },
   "outputs": [],
   "source": [
    "# возвести матрицю `prod` в ступінь 3\n",
    "pmat = np.linalg.matrix_power(prod, 3)\n",
    "print(pmat)"
   ]
  },
  {
   "cell_type": "code",
   "execution_count": null,
   "id": "f953fc44",
   "metadata": {
    "hidden": true
   },
   "outputs": [],
   "source": [
    "# додати елементи до 1-вимірного масива\n",
    "mat = np.array([1,2,3])\n",
    "mat = np.append(mat, [5,6,7,8])\n",
    "print(mat)"
   ]
  },
  {
   "cell_type": "code",
   "execution_count": null,
   "id": "db3cc1b6",
   "metadata": {
    "hidden": true
   },
   "outputs": [],
   "source": [
    "# вставити елемент `4` в масив після 3-го елемента\n",
    "mat = np.insert(mat, 3, 4)\n",
    "print(mat)"
   ]
  },
  {
   "cell_type": "code",
   "execution_count": null,
   "id": "fe415a92",
   "metadata": {
    "hidden": true
   },
   "outputs": [],
   "source": [
    "# видалити елемент з індексом 6\n",
    "mat = np.delete(mat, 6)\n",
    "print(mat)"
   ]
  },
  {
   "cell_type": "code",
   "execution_count": null,
   "id": "d4aaf37b",
   "metadata": {
    "hidden": true
   },
   "outputs": [],
   "source": [
    "#  копіювання та присвоювання масивів\n",
    "M = np.random.randint(1, 10, 5 )\n",
    "print(M)\n",
    "\n",
    "# присвоїти масив `M` в `N`\n",
    "N = M\n",
    "print(N)\n",
    "print(id(M), id(N))\n",
    "\n",
    "# копіювати масив `M` в `K`\n",
    "K = np.copy(M)\n",
    "print(K)\n",
    "print(id(M), id(K))"
   ]
  },
  {
   "cell_type": "code",
   "execution_count": null,
   "id": "f4c1dea4",
   "metadata": {
    "hidden": true
   },
   "outputs": [],
   "source": [
    "# конкатенація масивів по рядкам\n",
    "arr1 = np.array([[1,2,3,4], [1,2,3,4]])\n",
    "arr2 = np.array([[5,6,7,8], [5,6,7,8]])\n",
    "arr3 = np.concatenate((arr1, arr2), axis=0)\n",
    "print(arr3)\n",
    "# по колонкам `axis = 1`\n",
    "arr4 = np.concatenate((arr1, arr2), axis=1)\n",
    "print(arr4)"
   ]
  },
  {
   "cell_type": "markdown",
   "id": "c97162c9",
   "metadata": {
    "hidden": true
   },
   "source": [
    "### ЗАВДАННЯ 5"
   ]
  },
  {
   "cell_type": "code",
   "execution_count": 70,
   "id": "966132ea",
   "metadata": {
    "hidden": true
   },
   "outputs": [
    {
     "name": "stdout",
     "output_type": "stream",
     "text": [
      "[[10, 2, 9, 3], [4, 5, 1, 9], [1, 8, 8, 4]]\n",
      "[24, 19, 21]\n"
     ]
    }
   ],
   "source": [
    "# ЗАВДАННЯ 5.1: просумувати по рядкам масив випадкових чисел розмірностю 3х4\n",
    "mat5_1 = [[random.randint(1, 10) for j in range(4)] for i in range(3)]\n",
    "print(mat5_1)\n",
    "sum_mat5_1 = [sum(row) for row in mat5_1]\n",
    "print(sum_mat5_1)\n"
   ]
  },
  {
   "cell_type": "code",
   "execution_count": 73,
   "id": "622455c1",
   "metadata": {
    "hidden": true
   },
   "outputs": [
    {
     "name": "stdout",
     "output_type": "stream",
     "text": [
      "19\n"
     ]
    }
   ],
   "source": [
    "# ЗАВДАННЯ 5.2: знайти мінімальний елемент матриці `sum_mat5_1`\n",
    "min_mat5_1 = np.min(sum_mat5_1)\n",
    "print(min_mat5_1)"
   ]
  },
  {
   "cell_type": "code",
   "execution_count": 75,
   "id": "31f50295",
   "metadata": {
    "hidden": true
   },
   "outputs": [
    {
     "name": "stdout",
     "output_type": "stream",
     "text": [
      "[[106, 105, 104, 104], [103, 102, 101, 102], [102, 106, 106, 101]]\n"
     ]
    }
   ],
   "source": [
    "# ЗАВДАННЯ 5.3: створити масив додавши до елементів `mat5_1`  число 100\n",
    "mat5_1 = [[random.randint(1, 10) for j in range(4)] for i in range(3)]\n",
    "mat5_3 = [[num + 100 for num in row] for row in mat5_1]\n",
    "print(mat5_3)\n"
   ]
  },
  {
   "cell_type": "code",
   "execution_count": 81,
   "id": "92665601",
   "metadata": {
    "hidden": true
   },
   "outputs": [
    {
     "name": "stdout",
     "output_type": "stream",
     "text": [
      "[[416, 1040, 1040, 416], [654, 981, 436, 981], [110, 660, 1100, 770]]\n"
     ]
    }
   ],
   "source": [
    "# ЗАВДАННЯ 5.4: помножити матрицю `mat5_1` на головну діагональ матриці `mat5_3`\n",
    "mat5_1 = [[random.randint(1, 10) for j in range(4)] for i in range(3)]\n",
    "mat5_1\n",
    "mat5_3 = [[num + 100 for num in row] for row in mat5_1]\n",
    "main_diag = [mat5_3[i][i] for i in range(len(mat5_3))]\n",
    "mat5_4 = [[mat5_1[i][j] * main_diag[i] for j in range(len(mat5_1[0]))] for i in range(len(mat5_1))]\n",
    "print(mat5_4)\n"
   ]
  },
  {
   "cell_type": "code",
   "execution_count": 80,
   "id": "eccfcadf",
   "metadata": {
    "hidden": true,
    "scrolled": true
   },
   "outputs": [
    {
     "name": "stdout",
     "output_type": "stream",
     "text": [
      "[[ 110  103  102  101 1100  330  220  110]\n",
      " [ 109  107  108  110  963  749  856 1070]\n",
      " [ 106  101  102  109  612  102  204  918]]\n",
      "Rank of mat5_5: 3\n"
     ]
    }
   ],
   "source": [
    "# ЗАВДАННЯ 5.5: додати справа до матриці `mat5_3` матрицю `mat5_4` \n",
    "# вивести ранг отриманої матриці\n",
    "mat5_1 = [[random.randint(1, 10) for j in range(4)] for i in range(3)]\n",
    "mat5_1\n",
    "mat5_3 = [[num + 100 for num in row] for row in mat5_1]\n",
    "main_diag = [mat5_3[i][i] for i in range(len(mat5_3))]\n",
    "mat5_4 = [[mat5_1[i][j] * main_diag[i] for j in range(len(mat5_1[0]))] for i in range(len(mat5_1))]\n",
    "mat5_5 = np.hstack((mat5_3, mat5_4))\n",
    "print(mat5_5)\n",
    "print(\"Rank of mat5_5:\", np.linalg.matrix_rank(mat5_5))"
   ]
  },
  {
   "cell_type": "code",
   "execution_count": null,
   "id": "b015e350",
   "metadata": {},
   "outputs": [],
   "source": []
  },
  {
   "cell_type": "code",
   "execution_count": null,
   "id": "10d8fdfb",
   "metadata": {},
   "outputs": [],
   "source": []
  }
 ],
 "metadata": {
  "kernelspec": {
   "display_name": "Python 3 (ipykernel)",
   "language": "python",
   "name": "python3"
  },
  "language_info": {
   "codemirror_mode": {
    "name": "ipython",
    "version": 3
   },
   "file_extension": ".py",
   "mimetype": "text/x-python",
   "name": "python",
   "nbconvert_exporter": "python",
   "pygments_lexer": "ipython3",
   "version": "3.9.13"
  },
  "varInspector": {
   "cols": {
    "lenName": 16,
    "lenType": 16,
    "lenVar": 40
   },
   "kernels_config": {
    "python": {
     "delete_cmd_postfix": "",
     "delete_cmd_prefix": "del ",
     "library": "var_list.py",
     "varRefreshCmd": "print(var_dic_list())"
    },
    "r": {
     "delete_cmd_postfix": ") ",
     "delete_cmd_prefix": "rm(",
     "library": "var_list.r",
     "varRefreshCmd": "cat(var_dic_list()) "
    }
   },
   "types_to_exclude": [
    "module",
    "function",
    "builtin_function_or_method",
    "instance",
    "_Feature"
   ],
   "window_display": false
  }
 },
 "nbformat": 4,
 "nbformat_minor": 5
}
